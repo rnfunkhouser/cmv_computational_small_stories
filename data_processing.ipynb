{
 "cells": [
  {
   "cell_type": "markdown",
   "metadata": {},
   "source": [
    "## Import packages"
   ]
  },
  {
   "cell_type": "code",
   "execution_count": null,
   "metadata": {},
   "outputs": [],
   "source": [
    "import pandas as pd\n",
    "import csv"
   ]
  },
  {
   "cell_type": "markdown",
   "metadata": {},
   "source": [
    "## Define RedditComment Class and Functions"
   ]
  },
  {
   "cell_type": "code",
   "execution_count": null,
   "metadata": {},
   "outputs": [],
   "source": [
    "#define the class object\n",
    "class RedditComment:\n",
    "    def __init__(self, id, author, is_submitter=False, content=\"\"):\n",
    "        self.id = id\n",
    "        self.author = author\n",
    "        self.content = content\n",
    "        self.is_submitter = is_submitter\n",
    "        self.children = []\n",
    "        self.op_replied = is_submitter\n",
    "        self.is_tlc_author = False\n",
    "        self.has_delta = False\n",
    "\n",
    "    def total_children(self):\n",
    "        count_children = 0\n",
    "        for child in self.children:\n",
    "            count_children += 1\n",
    "            count_children += child.total_children()\n",
    "        return count_children\n",
    "    def update_delta_received(self):\n",
    "        print(f\"Checking deltas for comment ID {self.id}, number of children: {len(self.children)}\")\n",
    "        for child in self.children:\n",
    "            print(f\"Child ID {child.id}, Content: '{child.content[:50]}'\")  # print the first 50 characters of content\n",
    "            if \"!delta\" in child.content or \"Δ\" in child.content:\n",
    "                print(f\"Delta awarded by Child ID {child.id}\")\n",
    "                self.has_delta = True\n",
    "        for child in self.children:\n",
    "            child.update_delta_received()\n",
    "    def update_op_replied(self):\n",
    "        # Check if any child has op_replied set to True\n",
    "        if any(child.op_replied for child in self.children):\n",
    "            self.op_replied = True\n",
    "        # Update all children to propagate op_replied status downward if needed\n",
    "        for child in self.children:\n",
    "            child.update_op_replied()\n",
    "    def mark_tlc_author_comments(self, tlc_author):\n",
    "        # Recursively mark if a comment is by the TLC author\n",
    "        if self.author == tlc_author:\n",
    "            self.is_tlc_author = True\n",
    "        for child in self.children:\n",
    "            child.mark_tlc_author_comments(tlc_author)\n",
    "    def any_tlc_author_has_delta(self):\n",
    "        # Check if this comment or any child has a delta and is from the TLC author\n",
    "        if self.is_tlc_author and self.has_delta:\n",
    "            return True\n",
    "        return any(child.any_tlc_author_has_delta() for child in self.children)"
   ]
  },
  {
   "cell_type": "markdown",
   "metadata": {},
   "source": [
    "## Execute Class Functions on Data"
   ]
  },
  {
   "cell_type": "code",
   "execution_count": null,
   "metadata": {},
   "outputs": [],
   "source": [
    "if __name__ == \"__main__\":\n",
    "    # Open the CSV file containing the Reddit data\n",
    "    with open('/Users/ryanfunkhouser/Documents/Research/Active_Projects/SSiBD/Small-Stories-in-Big-Data/Data/CMV_July_2022.csv', 'r', encoding='utf-8') as file:\n",
    "        reader = csv.DictReader(file)\n",
    "        # Initialize a dictionary to map id to RedditComment objects\n",
    "        all_comments_dict = {}\n",
    "        # Initialize a list for top-level comments\n",
    "        top_level_comments = []\n",
    "        # Process each row from the CSV\n",
    "        for comment in reader:\n",
    "            author = comment['author']\n",
    "            content = comment.get('body', '').strip()  # Safely extract and ensure it's a string\n",
    "            #print(f\"Extracted content: '{content[:50]}'\")  # Debugging line\n",
    "            is_submitter = comment['is_submitter'].lower() == 'true'\n",
    "            reddit_comment = RedditComment(comment['id'], author, is_submitter, content)\n",
    "            all_comments_dict[comment['id']] = reddit_comment\n",
    "            # Check if the comment is a top-level comment\n",
    "            if comment['parent_id'].startswith(\"t3\"):\n",
    "                top_level_comments.append(reddit_comment)\n",
    "            else:\n",
    "                # This assumes that the parent_id field is prefixed with \"t1_\" when the parent is a comment\n",
    "                parent_comment_id = comment['parent_id'][3:]\n",
    "                parent_comment = all_comments_dict.get(parent_comment_id)\n",
    "                if parent_comment:\n",
    "                    parent_comment.children.append(reddit_comment)\n",
    "    for comment in top_level_comments:\n",
    "        comment.mark_tlc_author_comments(comment.author)  # Pass the author of the top-level comment\n",
    "        comment.update_op_replied()\n",
    "        comment.update_delta_received()\n",
    "\n",
    "    # Output top-level comments and their count of children\n",
    "    for reddit_comment in top_level_comments:\n",
    "        print(f\"{reddit_comment.id} : {reddit_comment.total_children()}\")"
   ]
  },
  {
   "cell_type": "markdown",
   "metadata": {},
   "source": [
    "## Various Iterations of Filtering and Validation"
   ]
  },
  {
   "cell_type": "code",
   "execution_count": null,
   "metadata": {},
   "outputs": [],
   "source": [
    "#display the number of top level comments\n",
    "print(f\"Number of top-level comments: {len(top_level_comments)}\")\n",
    "for comment in top_level_comments:\n",
    "    print(f\"Top-level comment ID: {comment.id}\")"
   ]
  },
  {
   "cell_type": "code",
   "execution_count": null,
   "metadata": {},
   "outputs": [],
   "source": [
    "#checking number of deltas\n",
    "delta_count = 0\n",
    "for comment in top_level_comments:\n",
    "    if  comment.has_delta == True:\n",
    "        delta_count += 1\n",
    "\n",
    "print(f\"Number of top-level comments where there is a delta in the tree: {delta_count}\")"
   ]
  },
  {
   "cell_type": "code",
   "execution_count": null,
   "metadata": {},
   "outputs": [],
   "source": [
    "#checking how many comment trees had the OP respond AND had a delta awarded to the TLC author\n",
    "def print_filtered_trees(comments):\n",
    "    valid_trees_count = 0\n",
    "    for comment in comments:\n",
    "        print(f\"Top Level Comment: {comment.id}, op_replied: {comment.op_replied}, any_tlc_author_has_delta: {comment.any_tlc_author_has_delta()}\")\n",
    "        if comment.op_replied and comment.any_tlc_author_has_delta():\n",
    "            print(\"\\nTop Level Comment:\", comment.id)\n",
    "            valid_trees_count += 1\n",
    "    print(f\"\\nTotal Comment Trees Matching Criteria: {valid_trees_count}\")\n",
    "print_filtered_trees(top_level_comments)"
   ]
  },
  {
   "cell_type": "code",
   "execution_count": null,
   "metadata": {},
   "outputs": [],
   "source": [
    "#prints the comment tree structure\n",
    "def print_comment_structure(comment, level=0):\n",
    "    # Print the current comment's ID and its children count, indented by the level in the hierarchy\n",
    "    # Include a marker or note if the comment is by the TLC author\n",
    "    tlc_author_marker = \" (TLC Author)\" if comment.is_tlc_author else \"\"    \n",
    "    # Print the current comment's ID, its children count, and if it's by the TLC author\n",
    "    #print('  ' * level + f\"{comment.id} ({comment.total_children()} children){tlc_author_marker}\")\n",
    "    print('  ' * level + f\"{comment.id} ({comment.content[:50]}){tlc_author_marker}\")\n",
    "    for child in comment.children:\n",
    "        print_comment_structure(child, level + 1)\n",
    "\n",
    "#keeps it from breaking if it's too big\n",
    "for reddit_comment in top_level_comments:\n",
    "    count = 0\n",
    "    print_comment_structure(reddit_comment)\n",
    "    count += 1\n",
    "    if count >= 20:\n",
    "        break"
   ]
  },
  {
   "cell_type": "code",
   "execution_count": null,
   "metadata": {},
   "outputs": [],
   "source": [
    "#creates and prints the comment tree structure showing only the TLC comments in trees where the OP replied\n",
    "def print_tlc_comment_structure(comment, is_top_level=True):\n",
    "    # Base check at the top level: proceed only if OP replied in this subtree\n",
    "    if is_top_level and not comment.op_replied:\n",
    "        return\n",
    "\n",
    "    # Print or process the comment only if it is by the TLC author\n",
    "    if comment.is_tlc_author:\n",
    "        print(f\"{comment.id} (TLC Author) : {comment.total_children()} children\")\n",
    "\n",
    "    # Recurse into children to continue checking and printing as necessary\n",
    "    for child in comment.children:\n",
    "        print_tlc_comment_structure(child, is_top_level=False)\n",
    "\n",
    "for comment in top_level_comments:\n",
    "    comment.update_op_replied()  # Make sure the op_replied is up to date\n",
    "    print(\"\\nTop Level Comment:\", comment.id)\n",
    "    print_tlc_comment_structure(comment)\n"
   ]
  },
  {
   "cell_type": "code",
   "execution_count": null,
   "metadata": {},
   "outputs": [],
   "source": [
    "#validation check for capturing if OP replied\n",
    "# Print only those top-level comments where the OP has replied in the subtree\n",
    "op_replied_count = 0\n",
    "for comment in top_level_comments:\n",
    "    if comment.op_replied:\n",
    "        print_comment_structure(comment)\n",
    "        op_replied_count += 1\n",
    "print(f\"Total top-level comments where the OP replied: {op_replied_count}\")\n",
    "\n"
   ]
  },
  {
   "cell_type": "code",
   "execution_count": null,
   "metadata": {},
   "outputs": [],
   "source": [
    "#validation check for printing the top 5 TLCs with the most comments under them. \n",
    "# Calculate the total number of children for each top-level comment\n",
    "top_level_comments_with_children = [(comment, comment.total_children()) for comment in top_level_comments]\n",
    "\n",
    "# Sort the top-level comments based on the total number of children\n",
    "sorted_top_level_comments = sorted(top_level_comments_with_children, key=lambda x: x[1], reverse=True)\n",
    "\n",
    "# Select the top 5 comments with the most children\n",
    "top_5_comments = sorted_top_level_comments[:5]\n",
    "\n",
    "# Print the comment structure for each of the top 5 comments\n",
    "for comment, _ in top_5_comments:\n",
    "    print(\"\\nTop Level Comment:\", comment.id)\n",
    "    print_comment_structure(comment)"
   ]
  },
  {
   "cell_type": "code",
   "execution_count": null,
   "metadata": {},
   "outputs": [],
   "source": []
  }
 ],
 "metadata": {
  "kernelspec": {
   "display_name": "base",
   "language": "python",
   "name": "python3"
  },
  "language_info": {
   "codemirror_mode": {
    "name": "ipython",
    "version": 3
   },
   "file_extension": ".py",
   "mimetype": "text/x-python",
   "name": "python",
   "nbconvert_exporter": "python",
   "pygments_lexer": "ipython3",
   "version": "3.11.6"
  },
  "orig_nbformat": 4
 },
 "nbformat": 4,
 "nbformat_minor": 2
}
